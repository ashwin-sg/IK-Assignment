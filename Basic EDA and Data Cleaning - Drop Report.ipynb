{
 "cells": [
  {
   "cell_type": "code",
   "execution_count": 1,
   "metadata": {},
   "outputs": [],
   "source": [
    "import pandas as pd\n",
    "import numpy as np\n",
    "import matplotlib.pyplot as plt\n",
    "import seaborn as sns\n",
    "%matplotlib inline"
   ]
  },
  {
   "cell_type": "code",
   "execution_count": 2,
   "metadata": {},
   "outputs": [],
   "source": [
    "df = pd.read_csv(\"Analytics Assignment - for Ashwin - Drop Report.csv\")"
   ]
  },
  {
   "cell_type": "code",
   "execution_count": 3,
   "metadata": {},
   "outputs": [
    {
     "data": {
      "text/plain": [
       "(980, 18)"
      ]
     },
     "execution_count": 3,
     "metadata": {},
     "output_type": "execute_result"
    }
   ],
   "source": [
    "df.shape"
   ]
  },
  {
   "cell_type": "code",
   "execution_count": 4,
   "metadata": {},
   "outputs": [
    {
     "data": {
      "text/html": [
       "<div>\n",
       "<style scoped>\n",
       "    .dataframe tbody tr th:only-of-type {\n",
       "        vertical-align: middle;\n",
       "    }\n",
       "\n",
       "    .dataframe tbody tr th {\n",
       "        vertical-align: top;\n",
       "    }\n",
       "\n",
       "    .dataframe thead th {\n",
       "        text-align: right;\n",
       "    }\n",
       "</style>\n",
       "<table border=\"1\" class=\"dataframe\">\n",
       "  <thead>\n",
       "    <tr style=\"text-align: right;\">\n",
       "      <th></th>\n",
       "      <th>SN</th>\n",
       "      <th>Lead ID</th>\n",
       "      <th>Cohort</th>\n",
       "      <th>Cohort start date (orientation)</th>\n",
       "      <th>Month</th>\n",
       "      <th>Deposit paid</th>\n",
       "      <th>Attended Orientation (Yes/No)</th>\n",
       "      <th>Attended Sorting (Yes/No)</th>\n",
       "      <th>Sorting foundation material consumption</th>\n",
       "      <th>New or moved from prev cohort</th>\n",
       "      <th>Number of moves</th>\n",
       "      <th>Move/Drop</th>\n",
       "      <th>Timezone</th>\n",
       "      <th>Domain</th>\n",
       "      <th>Work Ex (years)</th>\n",
       "      <th>Date when the lead entered the system</th>\n",
       "      <th>Date of enrollment webinar</th>\n",
       "      <th>Marketing channel</th>\n",
       "    </tr>\n",
       "  </thead>\n",
       "  <tbody>\n",
       "    <tr>\n",
       "      <th>0</th>\n",
       "      <td>1</td>\n",
       "      <td>tif9416692</td>\n",
       "      <td>Early-October 2020</td>\n",
       "      <td>October 1, 2020</td>\n",
       "      <td>October</td>\n",
       "      <td>9/4/2020</td>\n",
       "      <td>No</td>\n",
       "      <td>No</td>\n",
       "      <td>72</td>\n",
       "      <td>New</td>\n",
       "      <td>0</td>\n",
       "      <td>Retained</td>\n",
       "      <td>BST</td>\n",
       "      <td>Machine Learning/AI (including Deep Learning a...</td>\n",
       "      <td>4-7 years</td>\n",
       "      <td>NaN</td>\n",
       "      <td>NaN</td>\n",
       "      <td>NaN</td>\n",
       "    </tr>\n",
       "    <tr>\n",
       "      <th>1</th>\n",
       "      <td>2</td>\n",
       "      <td>22404867227</td>\n",
       "      <td>End-October 2020</td>\n",
       "      <td>October 22, 2020</td>\n",
       "      <td>October</td>\n",
       "      <td>10/15/2020</td>\n",
       "      <td>Yes</td>\n",
       "      <td>Yes</td>\n",
       "      <td>100</td>\n",
       "      <td>New</td>\n",
       "      <td>0</td>\n",
       "      <td>Retained</td>\n",
       "      <td>CST</td>\n",
       "      <td>SRE (Including Technical Operations), \\nNetwor...</td>\n",
       "      <td>10-15 years</td>\n",
       "      <td>07-28-2020 21:11:11</td>\n",
       "      <td>2020-10-15</td>\n",
       "      <td>Organic</td>\n",
       "    </tr>\n",
       "    <tr>\n",
       "      <th>2</th>\n",
       "      <td>3</td>\n",
       "      <td>57903210163</td>\n",
       "      <td>End-October 2020</td>\n",
       "      <td>October 22, 2020</td>\n",
       "      <td>October</td>\n",
       "      <td>10/19/2020</td>\n",
       "      <td>Yes</td>\n",
       "      <td>Yes</td>\n",
       "      <td>73</td>\n",
       "      <td>New</td>\n",
       "      <td>0</td>\n",
       "      <td>Retained</td>\n",
       "      <td>CST</td>\n",
       "      <td>Machine Learning/AI (including Deep Learning a...</td>\n",
       "      <td>4-7 years</td>\n",
       "      <td>10-15-2020 22:43:25</td>\n",
       "      <td>2020-10-17</td>\n",
       "      <td>Google NB</td>\n",
       "    </tr>\n",
       "  </tbody>\n",
       "</table>\n",
       "</div>"
      ],
      "text/plain": [
       "   SN      Lead ID              Cohort Cohort start date (orientation)  \\\n",
       "0   1   tif9416692  Early-October 2020                 October 1, 2020   \n",
       "1   2  22404867227    End-October 2020                October 22, 2020   \n",
       "2   3  57903210163    End-October 2020                October 22, 2020   \n",
       "\n",
       "     Month Deposit paid Attended Orientation (Yes/No)  \\\n",
       "0  October     9/4/2020                            No   \n",
       "1  October   10/15/2020                           Yes   \n",
       "2  October   10/19/2020                           Yes   \n",
       "\n",
       "  Attended Sorting (Yes/No) Sorting foundation material consumption  \\\n",
       "0                        No                                      72   \n",
       "1                       Yes                                     100   \n",
       "2                       Yes                                      73   \n",
       "\n",
       "  New or moved from prev cohort  Number of moves Move/Drop Timezone  \\\n",
       "0                           New                0  Retained      BST   \n",
       "1                           New                0  Retained      CST   \n",
       "2                           New                0  Retained      CST   \n",
       "\n",
       "                                              Domain Work Ex (years)  \\\n",
       "0  Machine Learning/AI (including Deep Learning a...       4-7 years   \n",
       "1  SRE (Including Technical Operations), \\nNetwor...     10-15 years   \n",
       "2  Machine Learning/AI (including Deep Learning a...       4-7 years   \n",
       "\n",
       "  Date when the lead entered the system Date of enrollment webinar  \\\n",
       "0                                   NaN                        NaN   \n",
       "1                   07-28-2020 21:11:11                 2020-10-15   \n",
       "2                   10-15-2020 22:43:25                 2020-10-17   \n",
       "\n",
       "  Marketing channel  \n",
       "0               NaN  \n",
       "1           Organic  \n",
       "2         Google NB  "
      ]
     },
     "execution_count": 4,
     "metadata": {},
     "output_type": "execute_result"
    }
   ],
   "source": [
    "df.head(3)"
   ]
  },
  {
   "cell_type": "code",
   "execution_count": 5,
   "metadata": {},
   "outputs": [
    {
     "name": "stdout",
     "output_type": "stream",
     "text": [
      "<class 'pandas.core.frame.DataFrame'>\n",
      "RangeIndex: 980 entries, 0 to 979\n",
      "Data columns (total 18 columns):\n",
      " #   Column                                   Non-Null Count  Dtype \n",
      "---  ------                                   --------------  ----- \n",
      " 0   SN                                       980 non-null    int64 \n",
      " 1   Lead ID                                  980 non-null    object\n",
      " 2   Cohort                                   980 non-null    object\n",
      " 3   Cohort start date (orientation)          980 non-null    object\n",
      " 4   Month                                    980 non-null    object\n",
      " 5   Deposit paid                             980 non-null    object\n",
      " 6   Attended Orientation (Yes/No)            936 non-null    object\n",
      " 7   Attended Sorting (Yes/No)                936 non-null    object\n",
      " 8   Sorting foundation material consumption  936 non-null    object\n",
      " 9   New or moved from prev cohort            980 non-null    object\n",
      " 10  Number of moves                          980 non-null    int64 \n",
      " 11  Move/Drop                                980 non-null    object\n",
      " 12  Timezone                                 980 non-null    object\n",
      " 13  Domain                                   303 non-null    object\n",
      " 14  Work Ex (years)                          739 non-null    object\n",
      " 15  Date when the lead entered the system    875 non-null    object\n",
      " 16  Date of enrollment webinar               821 non-null    object\n",
      " 17  Marketing channel                        774 non-null    object\n",
      "dtypes: int64(2), object(16)\n",
      "memory usage: 137.9+ KB\n"
     ]
    }
   ],
   "source": [
    "df.info()"
   ]
  },
  {
   "cell_type": "code",
   "execution_count": 6,
   "metadata": {},
   "outputs": [
    {
     "data": {
      "text/html": [
       "<div>\n",
       "<style scoped>\n",
       "    .dataframe tbody tr th:only-of-type {\n",
       "        vertical-align: middle;\n",
       "    }\n",
       "\n",
       "    .dataframe tbody tr th {\n",
       "        vertical-align: top;\n",
       "    }\n",
       "\n",
       "    .dataframe thead th {\n",
       "        text-align: right;\n",
       "    }\n",
       "</style>\n",
       "<table border=\"1\" class=\"dataframe\">\n",
       "  <thead>\n",
       "    <tr style=\"text-align: right;\">\n",
       "      <th></th>\n",
       "      <th>SN</th>\n",
       "      <th>Number of moves</th>\n",
       "    </tr>\n",
       "  </thead>\n",
       "  <tbody>\n",
       "    <tr>\n",
       "      <th>count</th>\n",
       "      <td>980.000000</td>\n",
       "      <td>980.000000</td>\n",
       "    </tr>\n",
       "    <tr>\n",
       "      <th>mean</th>\n",
       "      <td>490.500000</td>\n",
       "      <td>0.277551</td>\n",
       "    </tr>\n",
       "    <tr>\n",
       "      <th>std</th>\n",
       "      <td>283.045933</td>\n",
       "      <td>0.573955</td>\n",
       "    </tr>\n",
       "    <tr>\n",
       "      <th>min</th>\n",
       "      <td>1.000000</td>\n",
       "      <td>0.000000</td>\n",
       "    </tr>\n",
       "    <tr>\n",
       "      <th>25%</th>\n",
       "      <td>245.750000</td>\n",
       "      <td>0.000000</td>\n",
       "    </tr>\n",
       "    <tr>\n",
       "      <th>50%</th>\n",
       "      <td>490.500000</td>\n",
       "      <td>0.000000</td>\n",
       "    </tr>\n",
       "    <tr>\n",
       "      <th>75%</th>\n",
       "      <td>735.250000</td>\n",
       "      <td>0.000000</td>\n",
       "    </tr>\n",
       "    <tr>\n",
       "      <th>max</th>\n",
       "      <td>980.000000</td>\n",
       "      <td>4.000000</td>\n",
       "    </tr>\n",
       "  </tbody>\n",
       "</table>\n",
       "</div>"
      ],
      "text/plain": [
       "               SN  Number of moves\n",
       "count  980.000000       980.000000\n",
       "mean   490.500000         0.277551\n",
       "std    283.045933         0.573955\n",
       "min      1.000000         0.000000\n",
       "25%    245.750000         0.000000\n",
       "50%    490.500000         0.000000\n",
       "75%    735.250000         0.000000\n",
       "max    980.000000         4.000000"
      ]
     },
     "execution_count": 6,
     "metadata": {},
     "output_type": "execute_result"
    }
   ],
   "source": [
    "df.describe()"
   ]
  },
  {
   "cell_type": "code",
   "execution_count": 7,
   "metadata": {},
   "outputs": [
    {
     "data": {
      "text/plain": [
       "0"
      ]
     },
     "execution_count": 7,
     "metadata": {},
     "output_type": "execute_result"
    }
   ],
   "source": [
    "df.duplicated().sum()"
   ]
  },
  {
   "cell_type": "code",
   "execution_count": 8,
   "metadata": {},
   "outputs": [
    {
     "data": {
      "text/html": [
       "<div>\n",
       "<style scoped>\n",
       "    .dataframe tbody tr th:only-of-type {\n",
       "        vertical-align: middle;\n",
       "    }\n",
       "\n",
       "    .dataframe tbody tr th {\n",
       "        vertical-align: top;\n",
       "    }\n",
       "\n",
       "    .dataframe thead th {\n",
       "        text-align: right;\n",
       "    }\n",
       "</style>\n",
       "<table border=\"1\" class=\"dataframe\">\n",
       "  <thead>\n",
       "    <tr style=\"text-align: right;\">\n",
       "      <th></th>\n",
       "      <th>Percentage</th>\n",
       "      <th>Values</th>\n",
       "    </tr>\n",
       "  </thead>\n",
       "  <tbody>\n",
       "    <tr>\n",
       "      <th>SN</th>\n",
       "      <td>0.000000</td>\n",
       "      <td>0</td>\n",
       "    </tr>\n",
       "    <tr>\n",
       "      <th>Lead ID</th>\n",
       "      <td>0.000000</td>\n",
       "      <td>0</td>\n",
       "    </tr>\n",
       "    <tr>\n",
       "      <th>Cohort</th>\n",
       "      <td>0.000000</td>\n",
       "      <td>0</td>\n",
       "    </tr>\n",
       "    <tr>\n",
       "      <th>Cohort start date (orientation)</th>\n",
       "      <td>0.000000</td>\n",
       "      <td>0</td>\n",
       "    </tr>\n",
       "    <tr>\n",
       "      <th>Month</th>\n",
       "      <td>0.000000</td>\n",
       "      <td>0</td>\n",
       "    </tr>\n",
       "    <tr>\n",
       "      <th>Deposit paid</th>\n",
       "      <td>0.000000</td>\n",
       "      <td>0</td>\n",
       "    </tr>\n",
       "    <tr>\n",
       "      <th>Attended Orientation (Yes/No)</th>\n",
       "      <td>4.489796</td>\n",
       "      <td>44</td>\n",
       "    </tr>\n",
       "    <tr>\n",
       "      <th>Attended Sorting (Yes/No)</th>\n",
       "      <td>4.489796</td>\n",
       "      <td>44</td>\n",
       "    </tr>\n",
       "    <tr>\n",
       "      <th>Sorting foundation material consumption</th>\n",
       "      <td>4.489796</td>\n",
       "      <td>44</td>\n",
       "    </tr>\n",
       "    <tr>\n",
       "      <th>New or moved from prev cohort</th>\n",
       "      <td>0.000000</td>\n",
       "      <td>0</td>\n",
       "    </tr>\n",
       "    <tr>\n",
       "      <th>Number of moves</th>\n",
       "      <td>0.000000</td>\n",
       "      <td>0</td>\n",
       "    </tr>\n",
       "    <tr>\n",
       "      <th>Move/Drop</th>\n",
       "      <td>0.000000</td>\n",
       "      <td>0</td>\n",
       "    </tr>\n",
       "    <tr>\n",
       "      <th>Timezone</th>\n",
       "      <td>0.000000</td>\n",
       "      <td>0</td>\n",
       "    </tr>\n",
       "    <tr>\n",
       "      <th>Domain</th>\n",
       "      <td>69.081633</td>\n",
       "      <td>677</td>\n",
       "    </tr>\n",
       "    <tr>\n",
       "      <th>Work Ex (years)</th>\n",
       "      <td>24.591837</td>\n",
       "      <td>241</td>\n",
       "    </tr>\n",
       "    <tr>\n",
       "      <th>Date when the lead entered the system</th>\n",
       "      <td>10.714286</td>\n",
       "      <td>105</td>\n",
       "    </tr>\n",
       "    <tr>\n",
       "      <th>Date of enrollment webinar</th>\n",
       "      <td>16.224490</td>\n",
       "      <td>159</td>\n",
       "    </tr>\n",
       "    <tr>\n",
       "      <th>Marketing channel</th>\n",
       "      <td>21.020408</td>\n",
       "      <td>206</td>\n",
       "    </tr>\n",
       "  </tbody>\n",
       "</table>\n",
       "</div>"
      ],
      "text/plain": [
       "                                         Percentage  Values\n",
       "SN                                         0.000000       0\n",
       "Lead ID                                    0.000000       0\n",
       "Cohort                                     0.000000       0\n",
       "Cohort start date (orientation)            0.000000       0\n",
       "Month                                      0.000000       0\n",
       "Deposit paid                               0.000000       0\n",
       "Attended Orientation (Yes/No)              4.489796      44\n",
       "Attended Sorting (Yes/No)                  4.489796      44\n",
       "Sorting foundation material consumption    4.489796      44\n",
       "New or moved from prev cohort              0.000000       0\n",
       "Number of moves                            0.000000       0\n",
       "Move/Drop                                  0.000000       0\n",
       "Timezone                                   0.000000       0\n",
       "Domain                                    69.081633     677\n",
       "Work Ex (years)                           24.591837     241\n",
       "Date when the lead entered the system     10.714286     105\n",
       "Date of enrollment webinar                16.224490     159\n",
       "Marketing channel                         21.020408     206"
      ]
     },
     "execution_count": 8,
     "metadata": {},
     "output_type": "execute_result"
    }
   ],
   "source": [
    "s1 = df.isnull().sum()/df.shape[0] * 100\n",
    "s2 = df.isnull().sum()\n",
    "s3 = {'Percentage':s1, 'Values':s2}\n",
    "df_na = pd.DataFrame(data=s3)\n",
    "df_na"
   ]
  },
  {
   "cell_type": "code",
   "execution_count": 9,
   "metadata": {},
   "outputs": [],
   "source": [
    "df1 = df.copy()"
   ]
  },
  {
   "cell_type": "markdown",
   "metadata": {},
   "source": [
    "## EDA"
   ]
  },
  {
   "cell_type": "markdown",
   "metadata": {},
   "source": [
    "<b>1. Target Column 'Retained'</b>"
   ]
  },
  {
   "cell_type": "code",
   "execution_count": 10,
   "metadata": {},
   "outputs": [],
   "source": [
    "df1['Status'] = df1['Move/Drop']"
   ]
  },
  {
   "cell_type": "code",
   "execution_count": 11,
   "metadata": {},
   "outputs": [
    {
     "data": {
      "text/plain": [
       "Retained    694\n",
       "Move        152\n",
       "Drop        134\n",
       "Name: Status, dtype: int64"
      ]
     },
     "execution_count": 11,
     "metadata": {},
     "output_type": "execute_result"
    }
   ],
   "source": [
    "df1['Status'].value_counts()"
   ]
  },
  {
   "cell_type": "code",
   "execution_count": 12,
   "metadata": {},
   "outputs": [],
   "source": [
    "df1.drop('Move/Drop', axis=1, inplace=True)"
   ]
  },
  {
   "cell_type": "code",
   "execution_count": 13,
   "metadata": {},
   "outputs": [
    {
     "data": {
      "text/plain": [
       "array(['Retained', 'Drop', 'Move'], dtype=object)"
      ]
     },
     "execution_count": 13,
     "metadata": {},
     "output_type": "execute_result"
    }
   ],
   "source": [
    "df1['Status'].unique()"
   ]
  },
  {
   "cell_type": "code",
   "execution_count": 14,
   "metadata": {},
   "outputs": [
    {
     "data": {
      "text/plain": [
       "<matplotlib.axes._subplots.AxesSubplot at 0x22e899d09a0>"
      ]
     },
     "execution_count": 14,
     "metadata": {},
     "output_type": "execute_result"
    },
    {
     "data": {
      "image/png": "[encoded data removed]",
      "text/plain": [
       "<Figure size 720x360 with 1 Axes>"
      ]
     },
     "metadata": {
      "needs_background": "light"
     },
     "output_type": "display_data"
    }
   ],
   "source": [
    "plt.figure(figsize=(10,5))\n",
    "sns.countplot(df1['Status'])"
   ]
  },
  {
   "cell_type": "markdown",
   "metadata": {},
   "source": [
    "<b>2. 'Month' wise analysis</b>"
   ]
  },
  {
   "cell_type": "code",
   "execution_count": 15,
   "metadata": {},
   "outputs": [
    {
     "data": {
      "text/plain": [
       "array(['October', 'September', 'August', 'July'], dtype=object)"
      ]
     },
     "execution_count": 15,
     "metadata": {},
     "output_type": "execute_result"
    }
   ],
   "source": [
    "df1['Month'].unique()"
   ]
  },
  {
   "cell_type": "code",
   "execution_count": 16,
   "metadata": {},
   "outputs": [
    {
     "data": {
      "text/plain": [
       "August       0.297959\n",
       "September    0.285714\n",
       "October      0.269388\n",
       "July         0.146939\n",
       "Name: Month, dtype: float64"
      ]
     },
     "execution_count": 16,
     "metadata": {},
     "output_type": "execute_result"
    }
   ],
   "source": [
    "df1['Month'].value_counts()/df1.shape[0]"
   ]
  },
  {
   "cell_type": "code",
   "execution_count": 17,
   "metadata": {},
   "outputs": [
    {
     "data": {
      "text/plain": [
       "<matplotlib.axes._subplots.AxesSubplot at 0x22e89a509d0>"
      ]
     },
     "execution_count": 17,
     "metadata": {},
     "output_type": "execute_result"
    },
    {
     "data": {
      "image/png": "[encoded data removed]",
      "text/plain": [
       "<Figure size 864x432 with 1 Axes>"
      ]
     },
     "metadata": {
      "needs_background": "light"
     },
     "output_type": "display_data"
    }
   ],
   "source": [
    "plt.figure(figsize=(12,6))\n",
    "sns.countplot('Month',hue='Status', data=df1)"
   ]
  },
  {
   "cell_type": "markdown",
   "metadata": {},
   "source": [
    "<b>3. Orientation and Sorting</b>"
   ]
  },
  {
   "cell_type": "code",
   "execution_count": 18,
   "metadata": {},
   "outputs": [
    {
     "data": {
      "text/plain": [
       "array(['No', 'Yes', nan], dtype=object)"
      ]
     },
     "execution_count": 18,
     "metadata": {},
     "output_type": "execute_result"
    }
   ],
   "source": [
    "df1['Attended Orientation (Yes/No)'].unique()"
   ]
  },
  {
   "cell_type": "code",
   "execution_count": 19,
   "metadata": {},
   "outputs": [
    {
     "data": {
      "text/plain": [
       "Yes    819\n",
       "No     117\n",
       "Name: Attended Orientation (Yes/No), dtype: int64"
      ]
     },
     "execution_count": 19,
     "metadata": {},
     "output_type": "execute_result"
    }
   ],
   "source": [
    "df1['Attended Orientation (Yes/No)'].value_counts()"
   ]
  },
  {
   "cell_type": "code",
   "execution_count": 20,
   "metadata": {},
   "outputs": [
    {
     "data": {
      "text/plain": [
       "<matplotlib.axes._subplots.AxesSubplot at 0x22e89b2fb80>"
      ]
     },
     "execution_count": 20,
     "metadata": {},
     "output_type": "execute_result"
    },
    {
     "data": {
      "image/png": "[encoded data removed]",
      "text/plain": [
       "<Figure size 864x432 with 1 Axes>"
      ]
     },
     "metadata": {
      "needs_background": "light"
     },
     "output_type": "display_data"
    }
   ],
   "source": [
    "plt.figure(figsize=(12,6))\n",
    "\n",
    "sns.countplot('Attended Orientation (Yes/No)', hue='Status', data = df1)"
   ]
  },
  {
   "cell_type": "code",
   "execution_count": 21,
   "metadata": {},
   "outputs": [
    {
     "data": {
      "text/plain": [
       "array(['No', 'Yes', nan], dtype=object)"
      ]
     },
     "execution_count": 21,
     "metadata": {},
     "output_type": "execute_result"
    }
   ],
   "source": [
    "df1['Attended Sorting (Yes/No)'].unique()"
   ]
  },
  {
   "cell_type": "code",
   "execution_count": 22,
   "metadata": {},
   "outputs": [
    {
     "data": {
      "text/plain": [
       "Yes    778\n",
       "No     158\n",
       "Name: Attended Sorting (Yes/No), dtype: int64"
      ]
     },
     "execution_count": 22,
     "metadata": {},
     "output_type": "execute_result"
    }
   ],
   "source": [
    "df1['Attended Sorting (Yes/No)'].value_counts()"
   ]
  },
  {
   "cell_type": "code",
   "execution_count": 23,
   "metadata": {},
   "outputs": [
    {
     "data": {
      "text/plain": [
       "<matplotlib.axes._subplots.AxesSubplot at 0x22e876d14f0>"
      ]
     },
     "execution_count": 23,
     "metadata": {},
     "output_type": "execute_result"
    },
    {
     "data": {
      "image/png": "[encoded data removed]",
      "text/plain": [
       "<Figure size 864x432 with 1 Axes>"
      ]
     },
     "metadata": {
      "needs_background": "light"
     },
     "output_type": "display_data"
    }
   ],
   "source": [
    "plt.figure(figsize=(12,6))\n",
    "sns.countplot('Attended Sorting (Yes/No)', hue='Status', data = df1)"
   ]
  },
  {
   "cell_type": "markdown",
   "metadata": {},
   "source": [
    "<b>4. 'Sorting foundation material consumption'</b>"
   ]
  },
  {
   "cell_type": "code",
   "execution_count": 24,
   "metadata": {},
   "outputs": [
    {
     "data": {
      "text/plain": [
       "100    349\n",
       "0       88\n",
       "-       68\n",
       "94      37\n",
       "72      23\n",
       "      ... \n",
       "21       1\n",
       "27       1\n",
       "8        1\n",
       "47       1\n",
       "45       1\n",
       "Name: Sorting foundation material consumption, Length: 94, dtype: int64"
      ]
     },
     "execution_count": 24,
     "metadata": {},
     "output_type": "execute_result"
    }
   ],
   "source": [
    "df1['Sorting foundation material consumption'].value_counts()"
   ]
  },
  {
   "cell_type": "code",
   "execution_count": 25,
   "metadata": {},
   "outputs": [
    {
     "data": {
      "text/plain": [
       "['72',\n",
       " '100',\n",
       " '73',\n",
       " '25',\n",
       " '17',\n",
       " '100',\n",
       " '13',\n",
       " '71',\n",
       " '6',\n",
       " '13',\n",
       " '100',\n",
       " '73',\n",
       " '76',\n",
       " nan,\n",
       " '0',\n",
       " '0',\n",
       " '72',\n",
       " '0',\n",
       " '100',\n",
       " '1',\n",
       " '30',\n",
       " '0',\n",
       " '100',\n",
       " '100',\n",
       " '0',\n",
       " '100',\n",
       " '100',\n",
       " '0',\n",
       " '84',\n",
       " '100',\n",
       " '100',\n",
       " '70',\n",
       " '43',\n",
       " '100',\n",
       " '61',\n",
       " '50',\n",
       " '38',\n",
       " '100',\n",
       " '100',\n",
       " '6',\n",
       " '100',\n",
       " '-',\n",
       " '-',\n",
       " nan,\n",
       " nan,\n",
       " '100',\n",
       " '78',\n",
       " '17',\n",
       " '11',\n",
       " '100',\n",
       " '100',\n",
       " '61',\n",
       " '-',\n",
       " '100',\n",
       " '-',\n",
       " '-',\n",
       " '100',\n",
       " '62',\n",
       " '100',\n",
       " '55',\n",
       " '100',\n",
       " '100',\n",
       " '96',\n",
       " '100',\n",
       " '-',\n",
       " '100',\n",
       " '100',\n",
       " '99',\n",
       " '100',\n",
       " '100',\n",
       " '64',\n",
       " '100',\n",
       " '100',\n",
       " '100',\n",
       " '82',\n",
       " '98',\n",
       " '100',\n",
       " '38',\n",
       " '100',\n",
       " nan,\n",
       " nan,\n",
       " '-',\n",
       " '-',\n",
       " '-',\n",
       " '-',\n",
       " '-',\n",
       " '69',\n",
       " '100',\n",
       " '38',\n",
       " '75',\n",
       " '100',\n",
       " '100',\n",
       " '100',\n",
       " '97',\n",
       " '100',\n",
       " '62',\n",
       " '-',\n",
       " '0',\n",
       " '11',\n",
       " '-',\n",
       " nan,\n",
       " '65',\n",
       " '80',\n",
       " '53',\n",
       " '100',\n",
       " '100',\n",
       " '100',\n",
       " '100',\n",
       " '100',\n",
       " '92',\n",
       " '6',\n",
       " '89',\n",
       " '72',\n",
       " '0',\n",
       " '69',\n",
       " '1',\n",
       " '25',\n",
       " '100',\n",
       " '72',\n",
       " '61',\n",
       " '66',\n",
       " '100',\n",
       " '100',\n",
       " '34',\n",
       " '7',\n",
       " '56',\n",
       " '94',\n",
       " '83',\n",
       " '94',\n",
       " '100',\n",
       " '56',\n",
       " '12',\n",
       " '100',\n",
       " '89',\n",
       " '89',\n",
       " '100',\n",
       " '100',\n",
       " '78',\n",
       " '72',\n",
       " '97',\n",
       " '64',\n",
       " nan,\n",
       " '72',\n",
       " '72',\n",
       " '78',\n",
       " '0',\n",
       " '0',\n",
       " '100',\n",
       " '0',\n",
       " '100',\n",
       " '34',\n",
       " '0',\n",
       " '64',\n",
       " '54',\n",
       " '100',\n",
       " '28',\n",
       " '100',\n",
       " '22',\n",
       " '100',\n",
       " '0',\n",
       " '0',\n",
       " '6',\n",
       " '100',\n",
       " '100',\n",
       " '94',\n",
       " '0',\n",
       " '100',\n",
       " '100',\n",
       " '33',\n",
       " '17',\n",
       " '20',\n",
       " '100',\n",
       " '100',\n",
       " '19',\n",
       " '99',\n",
       " '59',\n",
       " '12',\n",
       " '95',\n",
       " '91',\n",
       " '100',\n",
       " '100',\n",
       " '0',\n",
       " '100',\n",
       " '28',\n",
       " '28',\n",
       " '23',\n",
       " '100',\n",
       " '100',\n",
       " '0',\n",
       " '100',\n",
       " '22',\n",
       " '84',\n",
       " '0',\n",
       " '23',\n",
       " '100',\n",
       " '68',\n",
       " '33',\n",
       " '100',\n",
       " '100',\n",
       " '20',\n",
       " '100',\n",
       " '0',\n",
       " '29',\n",
       " '28',\n",
       " '3',\n",
       " '17',\n",
       " '100',\n",
       " '72',\n",
       " '98',\n",
       " '94',\n",
       " '91',\n",
       " '0',\n",
       " '100',\n",
       " '100',\n",
       " '100',\n",
       " '100',\n",
       " '100',\n",
       " '78',\n",
       " nan,\n",
       " '33',\n",
       " '87',\n",
       " '100',\n",
       " '0',\n",
       " '11',\n",
       " '95',\n",
       " '33',\n",
       " '0',\n",
       " '100',\n",
       " '6',\n",
       " '75',\n",
       " '10',\n",
       " '22',\n",
       " '17',\n",
       " '0',\n",
       " '0',\n",
       " '77',\n",
       " '85',\n",
       " '51',\n",
       " '100',\n",
       " '100',\n",
       " '100',\n",
       " '100',\n",
       " '100',\n",
       " '100',\n",
       " '100',\n",
       " '100',\n",
       " '100',\n",
       " '-',\n",
       " '72',\n",
       " '100',\n",
       " '100',\n",
       " '3',\n",
       " '78',\n",
       " '89',\n",
       " '-',\n",
       " '-',\n",
       " '100',\n",
       " '100',\n",
       " '100',\n",
       " '84',\n",
       " '76',\n",
       " '0',\n",
       " '100',\n",
       " '95',\n",
       " '100',\n",
       " '100',\n",
       " '98',\n",
       " '-',\n",
       " '99',\n",
       " '36',\n",
       " '100',\n",
       " '81',\n",
       " '13',\n",
       " '100',\n",
       " '27',\n",
       " '56',\n",
       " '100',\n",
       " '96',\n",
       " '100',\n",
       " '100',\n",
       " '56',\n",
       " '50',\n",
       " '68',\n",
       " '100',\n",
       " '100',\n",
       " '100',\n",
       " '100',\n",
       " '100',\n",
       " '100',\n",
       " '24',\n",
       " '99',\n",
       " '100',\n",
       " '100',\n",
       " '94',\n",
       " nan,\n",
       " nan,\n",
       " nan,\n",
       " nan,\n",
       " '72',\n",
       " '56',\n",
       " '63',\n",
       " '-',\n",
       " '-',\n",
       " '-',\n",
       " '-',\n",
       " '-',\n",
       " '0',\n",
       " '-',\n",
       " '-',\n",
       " '31',\n",
       " '-',\n",
       " '95',\n",
       " '100',\n",
       " '88',\n",
       " '62',\n",
       " '100',\n",
       " '100',\n",
       " '100',\n",
       " '100',\n",
       " '100',\n",
       " '100',\n",
       " '100',\n",
       " '98',\n",
       " '100',\n",
       " '92',\n",
       " '93',\n",
       " '51',\n",
       " '100',\n",
       " '100',\n",
       " '100',\n",
       " '95',\n",
       " '75',\n",
       " '100',\n",
       " '100',\n",
       " '100',\n",
       " '51',\n",
       " '100',\n",
       " '93',\n",
       " '100',\n",
       " '100',\n",
       " '60',\n",
       " nan,\n",
       " nan,\n",
       " '-',\n",
       " '-',\n",
       " '100',\n",
       " '100',\n",
       " '100',\n",
       " '22',\n",
       " '-',\n",
       " '-',\n",
       " '100',\n",
       " '-',\n",
       " '-',\n",
       " '-',\n",
       " '-',\n",
       " '0',\n",
       " '81',\n",
       " '100',\n",
       " '100',\n",
       " '68',\n",
       " '100',\n",
       " nan,\n",
       " '90',\n",
       " '100',\n",
       " '28',\n",
       " '100',\n",
       " '97',\n",
       " '0',\n",
       " '0',\n",
       " '28',\n",
       " '11',\n",
       " '100',\n",
       " '0',\n",
       " '94',\n",
       " '11',\n",
       " '83',\n",
       " '-',\n",
       " nan,\n",
       " '44',\n",
       " '0',\n",
       " '100',\n",
       " '100',\n",
       " '95',\n",
       " '94',\n",
       " '-',\n",
       " '96',\n",
       " '100',\n",
       " '63',\n",
       " '-',\n",
       " '-',\n",
       " '100',\n",
       " '100',\n",
       " '100',\n",
       " '100',\n",
       " '100',\n",
       " '10',\n",
       " '28',\n",
       " '54',\n",
       " '82',\n",
       " '100',\n",
       " '100',\n",
       " '94',\n",
       " '88',\n",
       " '94',\n",
       " '94',\n",
       " '33',\n",
       " '100',\n",
       " '100',\n",
       " '59',\n",
       " '100',\n",
       " '100',\n",
       " '100',\n",
       " '100',\n",
       " '100',\n",
       " '94',\n",
       " '89',\n",
       " '74',\n",
       " '100',\n",
       " '72',\n",
       " '72',\n",
       " '0',\n",
       " '82',\n",
       " '100',\n",
       " '39',\n",
       " '100',\n",
       " '73',\n",
       " '100',\n",
       " '89',\n",
       " '100',\n",
       " '100',\n",
       " '100',\n",
       " '67',\n",
       " '100',\n",
       " '94',\n",
       " '89',\n",
       " '75',\n",
       " '37',\n",
       " '11',\n",
       " '29',\n",
       " '72',\n",
       " '32',\n",
       " '0',\n",
       " '0',\n",
       " '63',\n",
       " '85',\n",
       " '72',\n",
       " '56',\n",
       " '100',\n",
       " '94',\n",
       " '100',\n",
       " '100',\n",
       " '100',\n",
       " '96',\n",
       " '94',\n",
       " '100',\n",
       " '72',\n",
       " '11',\n",
       " '96',\n",
       " '100',\n",
       " '100',\n",
       " '100',\n",
       " '100',\n",
       " '100',\n",
       " '63',\n",
       " '88',\n",
       " '95',\n",
       " '100',\n",
       " '100',\n",
       " '0',\n",
       " '30',\n",
       " '11',\n",
       " '26',\n",
       " '100',\n",
       " '100',\n",
       " '71',\n",
       " '91',\n",
       " '94',\n",
       " '72',\n",
       " '33',\n",
       " '67',\n",
       " '100',\n",
       " '100',\n",
       " '100',\n",
       " '100',\n",
       " '100',\n",
       " '100',\n",
       " '100',\n",
       " '94',\n",
       " '99',\n",
       " '100',\n",
       " '100',\n",
       " '100',\n",
       " '100',\n",
       " '100',\n",
       " '61',\n",
       " '0',\n",
       " '39',\n",
       " '100',\n",
       " '63',\n",
       " '100',\n",
       " '94',\n",
       " '3',\n",
       " '100',\n",
       " '100',\n",
       " '78',\n",
       " '28',\n",
       " '100',\n",
       " '0',\n",
       " '17',\n",
       " '8',\n",
       " nan,\n",
       " nan,\n",
       " nan,\n",
       " '50',\n",
       " '7',\n",
       " '67',\n",
       " '0',\n",
       " '53',\n",
       " '0',\n",
       " '28',\n",
       " '83',\n",
       " '11',\n",
       " '33',\n",
       " '0',\n",
       " '0',\n",
       " '0',\n",
       " '0',\n",
       " '11',\n",
       " '0',\n",
       " '55',\n",
       " '18',\n",
       " '0',\n",
       " '0',\n",
       " '100',\n",
       " '0',\n",
       " '0',\n",
       " '49',\n",
       " '100',\n",
       " '56',\n",
       " '18',\n",
       " '13',\n",
       " '94',\n",
       " '100',\n",
       " '12',\n",
       " '0',\n",
       " '0',\n",
       " '0',\n",
       " '0',\n",
       " '0',\n",
       " '0',\n",
       " '0',\n",
       " '100',\n",
       " '33',\n",
       " '100',\n",
       " '94',\n",
       " '0',\n",
       " '94',\n",
       " '100',\n",
       " '84',\n",
       " '79',\n",
       " '41',\n",
       " '11',\n",
       " '94',\n",
       " '95',\n",
       " '61',\n",
       " '52',\n",
       " '94',\n",
       " '0',\n",
       " '100',\n",
       " '100',\n",
       " '99',\n",
       " '100',\n",
       " '100',\n",
       " '28',\n",
       " '94',\n",
       " '89',\n",
       " '100',\n",
       " '95',\n",
       " '90',\n",
       " '100',\n",
       " '33',\n",
       " '100',\n",
       " '39',\n",
       " '33',\n",
       " '28',\n",
       " '9',\n",
       " '100',\n",
       " '100',\n",
       " '100',\n",
       " '100',\n",
       " '100',\n",
       " '94',\n",
       " '100',\n",
       " '0',\n",
       " '56',\n",
       " '17',\n",
       " '90',\n",
       " '78',\n",
       " '26',\n",
       " '100',\n",
       " '72',\n",
       " '71',\n",
       " '100',\n",
       " '100',\n",
       " '58',\n",
       " '86',\n",
       " '100',\n",
       " '100',\n",
       " '100',\n",
       " '61',\n",
       " '51',\n",
       " '100',\n",
       " '100',\n",
       " '100',\n",
       " '100',\n",
       " '90',\n",
       " '37',\n",
       " '71',\n",
       " '49',\n",
       " '55',\n",
       " '100',\n",
       " '100',\n",
       " '100',\n",
       " '11',\n",
       " '60',\n",
       " '64',\n",
       " '100',\n",
       " '100',\n",
       " '100',\n",
       " '94',\n",
       " '100',\n",
       " '100',\n",
       " '100',\n",
       " '100',\n",
       " '39',\n",
       " '80',\n",
       " '1',\n",
       " '72',\n",
       " '94',\n",
       " '0',\n",
       " '100',\n",
       " '65',\n",
       " '40',\n",
       " '28',\n",
       " '100',\n",
       " '77',\n",
       " '81',\n",
       " '100',\n",
       " '22',\n",
       " '77',\n",
       " '100',\n",
       " '100',\n",
       " '100',\n",
       " '23',\n",
       " '100',\n",
       " '81',\n",
       " '94',\n",
       " '100',\n",
       " '100',\n",
       " '100',\n",
       " '78',\n",
       " '45',\n",
       " '83',\n",
       " '94',\n",
       " '72',\n",
       " '100',\n",
       " '91',\n",
       " '89',\n",
       " '100',\n",
       " '17',\n",
       " '100',\n",
       " '-',\n",
       " '-',\n",
       " '-',\n",
       " '0',\n",
       " '7',\n",
       " nan,\n",
       " nan,\n",
       " nan,\n",
       " nan,\n",
       " nan,\n",
       " nan,\n",
       " nan,\n",
       " nan,\n",
       " nan,\n",
       " nan,\n",
       " '0',\n",
       " '89',\n",
       " '0',\n",
       " '11',\n",
       " '74',\n",
       " '11',\n",
       " '0',\n",
       " '0',\n",
       " '0',\n",
       " '0',\n",
       " '0',\n",
       " '71',\n",
       " '56',\n",
       " '100',\n",
       " '0',\n",
       " '100',\n",
       " '0',\n",
       " '6',\n",
       " '0',\n",
       " '52',\n",
       " '94',\n",
       " '7',\n",
       " '100',\n",
       " '100',\n",
       " '56',\n",
       " '51',\n",
       " '100',\n",
       " '78',\n",
       " '100',\n",
       " '100',\n",
       " '90',\n",
       " '100',\n",
       " '89',\n",
       " '67',\n",
       " '77',\n",
       " '44',\n",
       " '100',\n",
       " '72',\n",
       " '98',\n",
       " '100',\n",
       " '78',\n",
       " '12',\n",
       " '0',\n",
       " '89',\n",
       " '100',\n",
       " '100',\n",
       " '100',\n",
       " '89',\n",
       " '100',\n",
       " '100',\n",
       " '100',\n",
       " '100',\n",
       " '67',\n",
       " '100',\n",
       " '-',\n",
       " '100',\n",
       " '100',\n",
       " '75',\n",
       " '100',\n",
       " '100',\n",
       " '100',\n",
       " '77',\n",
       " '100',\n",
       " '83',\n",
       " '100',\n",
       " '100',\n",
       " '56',\n",
       " '24',\n",
       " '100',\n",
       " '-',\n",
       " '97',\n",
       " '93',\n",
       " '100',\n",
       " '100',\n",
       " '100',\n",
       " '99',\n",
       " '100',\n",
       " '100',\n",
       " '100',\n",
       " '100',\n",
       " '-',\n",
       " '100',\n",
       " '55',\n",
       " '88',\n",
       " '100',\n",
       " '50',\n",
       " '100',\n",
       " '100',\n",
       " '100',\n",
       " '96',\n",
       " '100',\n",
       " '94',\n",
       " '0',\n",
       " '100',\n",
       " '100',\n",
       " '53',\n",
       " '94',\n",
       " '100',\n",
       " '77',\n",
       " '89',\n",
       " '100',\n",
       " '14',\n",
       " '100',\n",
       " '62',\n",
       " '70',\n",
       " '58',\n",
       " '86',\n",
       " '94',\n",
       " '100',\n",
       " '81',\n",
       " '100',\n",
       " '100',\n",
       " '40',\n",
       " '100',\n",
       " '100',\n",
       " '100',\n",
       " '99',\n",
       " '100',\n",
       " '100',\n",
       " '98',\n",
       " '93',\n",
       " '99',\n",
       " '100',\n",
       " '51',\n",
       " '100',\n",
       " '62',\n",
       " '100',\n",
       " '84',\n",
       " '9',\n",
       " '100',\n",
       " '100',\n",
       " '100',\n",
       " '100',\n",
       " '100',\n",
       " '100',\n",
       " '99',\n",
       " '100',\n",
       " '24',\n",
       " '100',\n",
       " '100',\n",
       " '55',\n",
       " '69',\n",
       " '90',\n",
       " '82',\n",
       " '100',\n",
       " '96',\n",
       " '100',\n",
       " '1',\n",
       " nan,\n",
       " nan,\n",
       " nan,\n",
       " nan,\n",
       " nan,\n",
       " nan,\n",
       " '94',\n",
       " '28',\n",
       " '69',\n",
       " '0',\n",
       " '-',\n",
       " '39',\n",
       " '72',\n",
       " '0',\n",
       " '100',\n",
       " '100',\n",
       " '-',\n",
       " '-',\n",
       " '-',\n",
       " '-',\n",
       " '-',\n",
       " '-',\n",
       " '-',\n",
       " '-',\n",
       " '100',\n",
       " '0',\n",
       " '100',\n",
       " '21',\n",
       " '-',\n",
       " '-',\n",
       " '60',\n",
       " '100',\n",
       " '86',\n",
       " '100',\n",
       " '100',\n",
       " '100',\n",
       " '100',\n",
       " '100',\n",
       " '69',\n",
       " '61',\n",
       " '83',\n",
       " '49',\n",
       " '81',\n",
       " '28',\n",
       " '100',\n",
       " '57',\n",
       " '87',\n",
       " '47',\n",
       " '100',\n",
       " '98',\n",
       " '94',\n",
       " '100',\n",
       " '96',\n",
       " '100',\n",
       " '88',\n",
       " '100',\n",
       " '31',\n",
       " '100',\n",
       " '62',\n",
       " '100',\n",
       " '68',\n",
       " '95',\n",
       " '100',\n",
       " '100',\n",
       " '100',\n",
       " '100',\n",
       " '100',\n",
       " '95',\n",
       " '87',\n",
       " '100',\n",
       " '100',\n",
       " '73',\n",
       " '100',\n",
       " '100',\n",
       " '34',\n",
       " '94',\n",
       " '0',\n",
       " '50',\n",
       " '97',\n",
       " '100',\n",
       " '100',\n",
       " '70',\n",
       " '79',\n",
       " '100',\n",
       " '100',\n",
       " '94',\n",
       " '100',\n",
       " '31',\n",
       " '100',\n",
       " '93',\n",
       " '10',\n",
       " '62',\n",
       " '75',\n",
       " '0',\n",
       " '0',\n",
       " '15',\n",
       " '100',\n",
       " '19',\n",
       " nan,\n",
       " nan,\n",
       " nan,\n",
       " nan,\n",
       " nan,\n",
       " nan,\n",
       " nan,\n",
       " '71',\n",
       " '0',\n",
       " '0',\n",
       " '0',\n",
       " '0',\n",
       " '72',\n",
       " '0',\n",
       " '71',\n",
       " '3',\n",
       " '0',\n",
       " '100',\n",
       " '80',\n",
       " '0',\n",
       " '100',\n",
       " '-',\n",
       " '-',\n",
       " '-',\n",
       " '-',\n",
       " '-',\n",
       " '1',\n",
       " '-',\n",
       " '-',\n",
       " '-',\n",
       " '-',\n",
       " '1',\n",
       " '72',\n",
       " '-',\n",
       " '-',\n",
       " '100',\n",
       " nan,\n",
       " '-',\n",
       " '0',\n",
       " '-',\n",
       " '-',\n",
       " '100',\n",
       " '0',\n",
       " '0',\n",
       " nan,\n",
       " '100',\n",
       " '94']"
      ]
     },
     "execution_count": 25,
     "metadata": {},
     "output_type": "execute_result"
    }
   ],
   "source": [
    "df1['Sorting foundation material consumption'].to_list()"
   ]
  },
  {
   "cell_type": "code",
   "execution_count": 26,
   "metadata": {},
   "outputs": [
    {
     "data": {
      "text/plain": [
       "0    100\n",
       "dtype: object"
      ]
     },
     "execution_count": 26,
     "metadata": {},
     "output_type": "execute_result"
    }
   ],
   "source": [
    "df1['Sorting foundation material consumption'].mode()"
   ]
  },
  {
   "cell_type": "code",
   "execution_count": 27,
   "metadata": {},
   "outputs": [],
   "source": [
    "df1['Sorting foundation material consumption'] = df1['Sorting foundation material consumption'].fillna(100)"
   ]
  },
  {
   "cell_type": "code",
   "execution_count": 28,
   "metadata": {},
   "outputs": [],
   "source": [
    "df1['Sorting foundation material consumption'] = df1['Sorting foundation material consumption'].replace('-', '100')"
   ]
  },
  {
   "cell_type": "code",
   "execution_count": 29,
   "metadata": {},
   "outputs": [],
   "source": [
    "df1['Sorting foundation material consumption'] = df1['Sorting foundation material consumption'].astype('int')"
   ]
  },
  {
   "cell_type": "code",
   "execution_count": 30,
   "metadata": {},
   "outputs": [
    {
     "name": "stdout",
     "output_type": "stream",
     "text": [
      "<class 'pandas.core.frame.DataFrame'>\n",
      "RangeIndex: 980 entries, 0 to 979\n",
      "Data columns (total 18 columns):\n",
      " #   Column                                   Non-Null Count  Dtype \n",
      "---  ------                                   --------------  ----- \n",
      " 0   SN                                       980 non-null    int64 \n",
      " 1   Lead ID                                  980 non-null    object\n",
      " 2   Cohort                                   980 non-null    object\n",
      " 3   Cohort start date (orientation)          980 non-null    object\n",
      " 4   Month                                    980 non-null    object\n",
      " 5   Deposit paid                             980 non-null    object\n",
      " 6   Attended Orientation (Yes/No)            936 non-null    object\n",
      " 7   Attended Sorting (Yes/No)                936 non-null    object\n",
      " 8   Sorting foundation material consumption  980 non-null    int32 \n",
      " 9   New or moved from prev cohort            980 non-null    object\n",
      " 10  Number of moves                          980 non-null    int64 \n",
      " 11  Timezone                                 980 non-null    object\n",
      " 12  Domain                                   303 non-null    object\n",
      " 13  Work Ex (years)                          739 non-null    object\n",
      " 14  Date when the lead entered the system    875 non-null    object\n",
      " 15  Date of enrollment webinar               821 non-null    object\n",
      " 16  Marketing channel                        774 non-null    object\n",
      " 17  Status                                   980 non-null    object\n",
      "dtypes: int32(1), int64(2), object(15)\n",
      "memory usage: 134.1+ KB\n"
     ]
    }
   ],
   "source": [
    "df1.info()"
   ]
  },
  {
   "cell_type": "code",
   "execution_count": 31,
   "metadata": {},
   "outputs": [
    {
     "data": {
      "text/plain": [
       "(array([111.,  39.,  35.,  30.,  11.,  39.,  43.,  65.,  51., 556.]),\n",
       " array([  0.,  10.,  20.,  30.,  40.,  50.,  60.,  70.,  80.,  90., 100.]),\n",
       " <a list of 10 Patch objects>)"
      ]
     },
     "execution_count": 31,
     "metadata": {},
     "output_type": "execute_result"
    },
    {
     "data": {
      "image/png": "[encoded data removed]",
      "text/plain": [
       "<Figure size 864x432 with 1 Axes>"
      ]
     },
     "metadata": {
      "needs_background": "light"
     },
     "output_type": "display_data"
    }
   ],
   "source": [
    "plt.figure(figsize=(12,6))\n",
    "plt.hist(df1['Sorting foundation material consumption'])"
   ]
  },
  {
   "cell_type": "code",
   "execution_count": 32,
   "metadata": {},
   "outputs": [
    {
     "data": {
      "text/plain": [
       "<matplotlib.axes._subplots.AxesSubplot at 0x22e89c73820>"
      ]
     },
     "execution_count": 32,
     "metadata": {},
     "output_type": "execute_result"
    },
    {
     "data": {
      "image/png": "[encoded data removed]",
      "text/plain": [
       "<Figure size 864x432 with 1 Axes>"
      ]
     },
     "metadata": {
      "needs_background": "light"
     },
     "output_type": "display_data"
    }
   ],
   "source": [
    "plt.figure(figsize=(12,6))\n",
    "sns.swarmplot(x='Status', y='Sorting foundation material consumption', data=df1 )"
   ]
  },
  {
   "cell_type": "markdown",
   "metadata": {},
   "source": [
    "<b>5. Moves from previous cohort and Number of moves</b>"
   ]
  },
  {
   "cell_type": "code",
   "execution_count": 33,
   "metadata": {},
   "outputs": [
    {
     "data": {
      "text/plain": [
       "New                       758\n",
       "Moved from prev cohort    222\n",
       "Name: New or moved from prev cohort, dtype: int64"
      ]
     },
     "execution_count": 33,
     "metadata": {},
     "output_type": "execute_result"
    }
   ],
   "source": [
    "df1['New or moved from prev cohort'].value_counts()"
   ]
  },
  {
   "cell_type": "code",
   "execution_count": 34,
   "metadata": {},
   "outputs": [
    {
     "data": {
      "text/plain": [
       "<matplotlib.axes._subplots.AxesSubplot at 0x22e89e068b0>"
      ]
     },
     "execution_count": 34,
     "metadata": {},
     "output_type": "execute_result"
    },
    {
     "data": {
      "image/png": "[encoded data removed]",
      "text/plain": [
       "<Figure size 864x432 with 1 Axes>"
      ]
     },
     "metadata": {
      "needs_background": "light"
     },
     "output_type": "display_data"
    }
   ],
   "source": [
    "plt.figure(figsize=(12,6))\n",
    "sns.countplot('New or moved from prev cohort', hue='Status', data=df1)"
   ]
  },
  {
   "cell_type": "markdown",
   "metadata": {},
   "source": [
    "<b>6. Timezone</b>"
   ]
  },
  {
   "cell_type": "code",
   "execution_count": 35,
   "metadata": {},
   "outputs": [
    {
     "data": {
      "text/plain": [
       "PST        587\n",
       "EST        255\n",
       "CST        100\n",
       "MST         26\n",
       "IST          8\n",
       "HAST         1\n",
       "UTC+8        1\n",
       "BST          1\n",
       "UK Time      1\n",
       "Name: Timezone, dtype: int64"
      ]
     },
     "execution_count": 35,
     "metadata": {},
     "output_type": "execute_result"
    }
   ],
   "source": [
    "df1['Timezone'].value_counts()"
   ]
  },
  {
   "cell_type": "code",
   "execution_count": 36,
   "metadata": {},
   "outputs": [
    {
     "data": {
      "text/plain": [
       "<matplotlib.legend.Legend at 0x22e89e49c70>"
      ]
     },
     "execution_count": 36,
     "metadata": {},
     "output_type": "execute_result"
    },
    {
     "data": {
      "image/png": "[encoded data removed]",
      "text/plain": [
       "<Figure size 864x432 with 1 Axes>"
      ]
     },
     "metadata": {
      "needs_background": "light"
     },
     "output_type": "display_data"
    }
   ],
   "source": [
    "plt.figure(figsize=(12,6))\n",
    "sns.countplot('Timezone', hue='Status', data=df1)\n",
    "plt.legend(loc=2)"
   ]
  },
  {
   "cell_type": "markdown",
   "metadata": {},
   "source": [
    "<b>7. Work Experience</b>"
   ]
  },
  {
   "cell_type": "code",
   "execution_count": 37,
   "metadata": {},
   "outputs": [
    {
     "data": {
      "text/plain": [
       "10-15 years                                      192\n",
       "4-7 years                                        139\n",
       "7-10 years                                       117\n",
       "15-20 years                                      111\n",
       "1-3 years                                        101\n",
       "20+ years                                         44\n",
       "I do not have software engineering experience     18\n",
       "Internships only                                  17\n",
       "Name: Work Ex (years), dtype: int64"
      ]
     },
     "execution_count": 37,
     "metadata": {},
     "output_type": "execute_result"
    }
   ],
   "source": [
    "df1['Work Ex (years)'].value_counts()"
   ]
  },
  {
   "cell_type": "code",
   "execution_count": 38,
   "metadata": {},
   "outputs": [],
   "source": [
    "# df1['Work Ex (years)'] = df['Work Ex (years)'].map({'4-7 years': }) "
   ]
  },
  {
   "cell_type": "code",
   "execution_count": 39,
   "metadata": {},
   "outputs": [
    {
     "data": {
      "text/plain": [
       "<matplotlib.axes._subplots.AxesSubplot at 0x22e89f1ae20>"
      ]
     },
     "execution_count": 39,
     "metadata": {},
     "output_type": "execute_result"
    },
    {
     "data": {
      "image/png": "[encoded data removed]",
      "text/plain": [
       "<Figure size 1800x864 with 1 Axes>"
      ]
     },
     "metadata": {
      "needs_background": "light"
     },
     "output_type": "display_data"
    }
   ],
   "source": [
    "plt.figure(figsize=(25,12))\n",
    "sns.countplot('Work Ex (years)', hue='Status', data=df1)"
   ]
  },
  {
   "cell_type": "markdown",
   "metadata": {},
   "source": [
    "<b>8. Marketing Channel</b>"
   ]
  },
  {
   "cell_type": "code",
   "execution_count": 40,
   "metadata": {},
   "outputs": [
    {
     "data": {
      "text/plain": [
       "Organic               453\n",
       "Google Discovery       76\n",
       "Google Brand           69\n",
       "quora                  50\n",
       "Google NB              46\n",
       "Google YouTube         34\n",
       "blind                  25\n",
       "Google Remarketing     14\n",
       "facebook                5\n",
       "sendinblue              2\n",
       "Name: Marketing channel, dtype: int64"
      ]
     },
     "execution_count": 40,
     "metadata": {},
     "output_type": "execute_result"
    }
   ],
   "source": [
    "df1['Marketing channel'].value_counts()"
   ]
  },
  {
   "cell_type": "code",
   "execution_count": 41,
   "metadata": {
    "scrolled": true
   },
   "outputs": [
    {
     "data": {
      "text/plain": [
       "<matplotlib.axes._subplots.AxesSubplot at 0x22e89bf2550>"
      ]
     },
     "execution_count": 41,
     "metadata": {},
     "output_type": "execute_result"
    },
    {
     "data": {
      "image/png": "[encoded data removed]",
      "text/plain": [
       "<Figure size 1296x432 with 1 Axes>"
      ]
     },
     "metadata": {
      "needs_background": "light"
     },
     "output_type": "display_data"
    }
   ],
   "source": [
    "plt.figure(figsize=(18,6))\n",
    "sns.countplot('Marketing channel', hue='Status', data=df1)"
   ]
  },
  {
   "cell_type": "markdown",
   "metadata": {},
   "source": [
    "<b>9. Domain</b>"
   ]
  },
  {
   "cell_type": "code",
   "execution_count": 42,
   "metadata": {},
   "outputs": [],
   "source": [
    "df1['Domain_Broad'] = df1['Domain'].str.split('(', expand=True)[0]"
   ]
  },
  {
   "cell_type": "code",
   "execution_count": 43,
   "metadata": {},
   "outputs": [],
   "source": [
    "df1['Domain_Broad'] = df1['Domain_Broad'].str.split(',', expand=True)[0]"
   ]
  },
  {
   "cell_type": "code",
   "execution_count": 44,
   "metadata": {},
   "outputs": [
    {
     "data": {
      "text/plain": [
       "Backend                    128\n",
       "Machine Learning/AI         71\n",
       "Fullstack                   26\n",
       "Frontend                    20\n",
       "Data Engineering            12\n",
       "Engineering Management      11\n",
       "Networking                  10\n",
       "Embedded Systems             8\n",
       "Test Automation              7\n",
       "SRE                          6\n",
       "Product Manager              2\n",
       "iOS                          1\n",
       "choice 16                    1\n",
       "Name: Domain_Broad, dtype: int64"
      ]
     },
     "execution_count": 44,
     "metadata": {},
     "output_type": "execute_result"
    }
   ],
   "source": [
    "df1['Domain_Broad'].value_counts()"
   ]
  },
  {
   "cell_type": "code",
   "execution_count": 45,
   "metadata": {},
   "outputs": [
    {
     "data": {
      "text/plain": [
       "<matplotlib.axes._subplots.AxesSubplot at 0x22e8a2ba580>"
      ]
     },
     "execution_count": 45,
     "metadata": {},
     "output_type": "execute_result"
    },
    {
     "data": {
      "image/png": "[encoded data removed]",
      "text/plain": [
       "<Figure size 1800x720 with 1 Axes>"
      ]
     },
     "metadata": {
      "needs_background": "light"
     },
     "output_type": "display_data"
    }
   ],
   "source": [
    "plt.figure(figsize=(25,10))\n",
    "sns.countplot('Domain_Broad', hue='Status', data=df1)"
   ]
  },
  {
   "cell_type": "markdown",
   "metadata": {},
   "source": [
    "<b>10. New or Moved from previous Cohort</b>"
   ]
  },
  {
   "cell_type": "code",
   "execution_count": 46,
   "metadata": {},
   "outputs": [
    {
     "data": {
      "text/plain": [
       "New                       758\n",
       "Moved from prev cohort    222\n",
       "Name: New or moved from prev cohort, dtype: int64"
      ]
     },
     "execution_count": 46,
     "metadata": {},
     "output_type": "execute_result"
    }
   ],
   "source": [
    "df1['New or moved from prev cohort'].value_counts()"
   ]
  },
  {
   "cell_type": "code",
   "execution_count": 47,
   "metadata": {},
   "outputs": [
    {
     "data": {
      "text/plain": [
       "<matplotlib.axes._subplots.AxesSubplot at 0x22e8a6d3490>"
      ]
     },
     "execution_count": 47,
     "metadata": {},
     "output_type": "execute_result"
    },
    {
     "data": {
      "image/png": "[encoded data removed]",
      "text/plain": [
       "<Figure size 720x360 with 1 Axes>"
      ]
     },
     "metadata": {
      "needs_background": "light"
     },
     "output_type": "display_data"
    }
   ],
   "source": [
    "plt.figure(figsize=(10,5))\n",
    "sns.countplot('New or moved from prev cohort', data=df1)"
   ]
  },
  {
   "cell_type": "code",
   "execution_count": 48,
   "metadata": {},
   "outputs": [
    {
     "data": {
      "text/plain": [
       "0    758\n",
       "1    181\n",
       "2     36\n",
       "4      4\n",
       "3      1\n",
       "Name: Number of moves, dtype: int64"
      ]
     },
     "execution_count": 48,
     "metadata": {},
     "output_type": "execute_result"
    }
   ],
   "source": [
    "df1['Number of moves'].value_counts()"
   ]
  },
  {
   "cell_type": "code",
   "execution_count": 49,
   "metadata": {},
   "outputs": [
    {
     "data": {
      "text/plain": [
       "<matplotlib.axes._subplots.AxesSubplot at 0x22e8a72b6a0>"
      ]
     },
     "execution_count": 49,
     "metadata": {},
     "output_type": "execute_result"
    },
    {
     "data": {
      "image/png": "[encoded data removed]",
      "text/plain": [
       "<Figure size 1080x432 with 1 Axes>"
      ]
     },
     "metadata": {
      "needs_background": "light"
     },
     "output_type": "display_data"
    }
   ],
   "source": [
    "plt.figure(figsize=(15,6))\n",
    "sns.countplot('Number of moves', data=df1)"
   ]
  },
  {
   "cell_type": "code",
   "execution_count": 50,
   "metadata": {},
   "outputs": [],
   "source": [
    "df1.drop(['SN','Lead ID','Cohort','Cohort start date (orientation)','Deposit paid','New or moved from prev cohort',\n",
    "          'Domain','Number of moves','Date when the lead entered the system','Date of enrollment webinar'], \n",
    "          axis=1, inplace=True)"
   ]
  },
  {
   "cell_type": "code",
   "execution_count": 51,
   "metadata": {},
   "outputs": [],
   "source": [
    "df1.drop(['Month', 'Domain_Broad'], axis=1, inplace=True)"
   ]
  },
  {
   "cell_type": "code",
   "execution_count": 52,
   "metadata": {},
   "outputs": [
    {
     "data": {
      "text/html": [
       "<div>\n",
       "<style scoped>\n",
       "    .dataframe tbody tr th:only-of-type {\n",
       "        vertical-align: middle;\n",
       "    }\n",
       "\n",
       "    .dataframe tbody tr th {\n",
       "        vertical-align: top;\n",
       "    }\n",
       "\n",
       "    .dataframe thead th {\n",
       "        text-align: right;\n",
       "    }\n",
       "</style>\n",
       "<table border=\"1\" class=\"dataframe\">\n",
       "  <thead>\n",
       "    <tr style=\"text-align: right;\">\n",
       "      <th></th>\n",
       "      <th>Attended Orientation (Yes/No)</th>\n",
       "      <th>Attended Sorting (Yes/No)</th>\n",
       "      <th>Sorting foundation material consumption</th>\n",
       "      <th>Timezone</th>\n",
       "      <th>Work Ex (years)</th>\n",
       "      <th>Marketing channel</th>\n",
       "      <th>Status</th>\n",
       "    </tr>\n",
       "  </thead>\n",
       "  <tbody>\n",
       "    <tr>\n",
       "      <th>0</th>\n",
       "      <td>No</td>\n",
       "      <td>No</td>\n",
       "      <td>72</td>\n",
       "      <td>BST</td>\n",
       "      <td>4-7 years</td>\n",
       "      <td>NaN</td>\n",
       "      <td>Retained</td>\n",
       "    </tr>\n",
       "    <tr>\n",
       "      <th>1</th>\n",
       "      <td>Yes</td>\n",
       "      <td>Yes</td>\n",
       "      <td>100</td>\n",
       "      <td>CST</td>\n",
       "      <td>10-15 years</td>\n",
       "      <td>Organic</td>\n",
       "      <td>Retained</td>\n",
       "    </tr>\n",
       "    <tr>\n",
       "      <th>2</th>\n",
       "      <td>Yes</td>\n",
       "      <td>Yes</td>\n",
       "      <td>73</td>\n",
       "      <td>CST</td>\n",
       "      <td>4-7 years</td>\n",
       "      <td>Google NB</td>\n",
       "      <td>Retained</td>\n",
       "    </tr>\n",
       "    <tr>\n",
       "      <th>3</th>\n",
       "      <td>Yes</td>\n",
       "      <td>Yes</td>\n",
       "      <td>25</td>\n",
       "      <td>CST</td>\n",
       "      <td>10-15 years</td>\n",
       "      <td>Google Brand</td>\n",
       "      <td>Drop</td>\n",
       "    </tr>\n",
       "    <tr>\n",
       "      <th>4</th>\n",
       "      <td>Yes</td>\n",
       "      <td>Yes</td>\n",
       "      <td>17</td>\n",
       "      <td>CST</td>\n",
       "      <td>10-15 years</td>\n",
       "      <td>Organic</td>\n",
       "      <td>Drop</td>\n",
       "    </tr>\n",
       "  </tbody>\n",
       "</table>\n",
       "</div>"
      ],
      "text/plain": [
       "  Attended Orientation (Yes/No) Attended Sorting (Yes/No)  \\\n",
       "0                            No                        No   \n",
       "1                           Yes                       Yes   \n",
       "2                           Yes                       Yes   \n",
       "3                           Yes                       Yes   \n",
       "4                           Yes                       Yes   \n",
       "\n",
       "   Sorting foundation material consumption Timezone Work Ex (years)  \\\n",
       "0                                       72      BST       4-7 years   \n",
       "1                                      100      CST     10-15 years   \n",
       "2                                       73      CST       4-7 years   \n",
       "3                                       25      CST     10-15 years   \n",
       "4                                       17      CST     10-15 years   \n",
       "\n",
       "  Marketing channel    Status  \n",
       "0               NaN  Retained  \n",
       "1           Organic  Retained  \n",
       "2         Google NB  Retained  \n",
       "3      Google Brand      Drop  \n",
       "4           Organic      Drop  "
      ]
     },
     "execution_count": 52,
     "metadata": {},
     "output_type": "execute_result"
    }
   ],
   "source": [
    "df1.head()"
   ]
  },
  {
   "cell_type": "code",
   "execution_count": 53,
   "metadata": {},
   "outputs": [
    {
     "name": "stdout",
     "output_type": "stream",
     "text": [
      "<class 'pandas.core.frame.DataFrame'>\n",
      "RangeIndex: 980 entries, 0 to 979\n",
      "Data columns (total 7 columns):\n",
      " #   Column                                   Non-Null Count  Dtype \n",
      "---  ------                                   --------------  ----- \n",
      " 0   Attended Orientation (Yes/No)            936 non-null    object\n",
      " 1   Attended Sorting (Yes/No)                936 non-null    object\n",
      " 2   Sorting foundation material consumption  980 non-null    int32 \n",
      " 3   Timezone                                 980 non-null    object\n",
      " 4   Work Ex (years)                          739 non-null    object\n",
      " 5   Marketing channel                        774 non-null    object\n",
      " 6   Status                                   980 non-null    object\n",
      "dtypes: int32(1), object(6)\n",
      "memory usage: 49.9+ KB\n"
     ]
    }
   ],
   "source": [
    "df1.info()"
   ]
  },
  {
   "cell_type": "code",
   "execution_count": 54,
   "metadata": {},
   "outputs": [],
   "source": [
    "df1.dropna(inplace=True)"
   ]
  },
  {
   "cell_type": "markdown",
   "metadata": {},
   "source": [
    "## Encoding and Standardization"
   ]
  },
  {
   "cell_type": "code",
   "execution_count": 56,
   "metadata": {},
   "outputs": [],
   "source": [
    "from sklearn.preprocessing import LabelEncoder\n",
    "le = LabelEncoder()"
   ]
  },
  {
   "cell_type": "code",
   "execution_count": 73,
   "metadata": {},
   "outputs": [],
   "source": [
    "df1['Work Ex (years)'] = le.fit_transform(df1['Work Ex (years)'])"
   ]
  },
  {
   "cell_type": "code",
   "execution_count": 72,
   "metadata": {},
   "outputs": [
    {
     "data": {
      "text/plain": [
       "pandas.core.frame.DataFrame"
      ]
     },
     "execution_count": 72,
     "metadata": {},
     "output_type": "execute_result"
    }
   ],
   "source": [
    "Atnd_Ornt = pd.get_dummies(df1['Attended Orientation (Yes/No)'])\n",
    "type(Atnd_Ornt)"
   ]
  },
  {
   "cell_type": "code",
   "execution_count": 79,
   "metadata": {},
   "outputs": [],
   "source": [
    "Atnd_Sort = pd.get_dummies(df1['Attended Sorting (Yes/No)'])"
   ]
  },
  {
   "cell_type": "code",
   "execution_count": 77,
   "metadata": {},
   "outputs": [],
   "source": [
    "Marketing_ch = pd.get_dummies(df1['Marketing channel'])"
   ]
  },
  {
   "cell_type": "code",
   "execution_count": 68,
   "metadata": {},
   "outputs": [],
   "source": [
    "Timezone = pd.get_dummies(df1['Timezone'])"
   ]
  },
  {
   "cell_type": "code",
   "execution_count": 82,
   "metadata": {},
   "outputs": [],
   "source": [
    "df2 = pd.concat([df1,Atnd_Ornt,Atnd_Sort,Marketing_ch,Timezone], axis=1)"
   ]
  },
  {
   "cell_type": "code",
   "execution_count": 88,
   "metadata": {},
   "outputs": [
    {
     "data": {
      "text/html": [
       "<div>\n",
       "<style scoped>\n",
       "    .dataframe tbody tr th:only-of-type {\n",
       "        vertical-align: middle;\n",
       "    }\n",
       "\n",
       "    .dataframe tbody tr th {\n",
       "        vertical-align: top;\n",
       "    }\n",
       "\n",
       "    .dataframe thead th {\n",
       "        text-align: right;\n",
       "    }\n",
       "</style>\n",
       "<table border=\"1\" class=\"dataframe\">\n",
       "  <thead>\n",
       "    <tr style=\"text-align: right;\">\n",
       "      <th></th>\n",
       "      <th>Sorting foundation material consumption</th>\n",
       "      <th>Work Ex (years)</th>\n",
       "      <th>Status</th>\n",
       "      <th>No</th>\n",
       "      <th>Yes</th>\n",
       "      <th>No</th>\n",
       "      <th>Yes</th>\n",
       "      <th>Google Brand</th>\n",
       "      <th>Google Discovery</th>\n",
       "      <th>Google NB</th>\n",
       "      <th>...</th>\n",
       "      <th>blind</th>\n",
       "      <th>facebook</th>\n",
       "      <th>quora</th>\n",
       "      <th>sendinblue</th>\n",
       "      <th>CST</th>\n",
       "      <th>EST</th>\n",
       "      <th>IST</th>\n",
       "      <th>MST</th>\n",
       "      <th>PST</th>\n",
       "      <th>UK Time</th>\n",
       "    </tr>\n",
       "  </thead>\n",
       "  <tbody>\n",
       "    <tr>\n",
       "      <th>1</th>\n",
       "      <td>100</td>\n",
       "      <td>1</td>\n",
       "      <td>Retained</td>\n",
       "      <td>0</td>\n",
       "      <td>1</td>\n",
       "      <td>0</td>\n",
       "      <td>1</td>\n",
       "      <td>0</td>\n",
       "      <td>0</td>\n",
       "      <td>0</td>\n",
       "      <td>...</td>\n",
       "      <td>0</td>\n",
       "      <td>0</td>\n",
       "      <td>0</td>\n",
       "      <td>0</td>\n",
       "      <td>1</td>\n",
       "      <td>0</td>\n",
       "      <td>0</td>\n",
       "      <td>0</td>\n",
       "      <td>0</td>\n",
       "      <td>0</td>\n",
       "    </tr>\n",
       "    <tr>\n",
       "      <th>2</th>\n",
       "      <td>73</td>\n",
       "      <td>4</td>\n",
       "      <td>Retained</td>\n",
       "      <td>0</td>\n",
       "      <td>1</td>\n",
       "      <td>0</td>\n",
       "      <td>1</td>\n",
       "      <td>0</td>\n",
       "      <td>0</td>\n",
       "      <td>1</td>\n",
       "      <td>...</td>\n",
       "      <td>0</td>\n",
       "      <td>0</td>\n",
       "      <td>0</td>\n",
       "      <td>0</td>\n",
       "      <td>1</td>\n",
       "      <td>0</td>\n",
       "      <td>0</td>\n",
       "      <td>0</td>\n",
       "      <td>0</td>\n",
       "      <td>0</td>\n",
       "    </tr>\n",
       "    <tr>\n",
       "      <th>3</th>\n",
       "      <td>25</td>\n",
       "      <td>1</td>\n",
       "      <td>Drop</td>\n",
       "      <td>0</td>\n",
       "      <td>1</td>\n",
       "      <td>0</td>\n",
       "      <td>1</td>\n",
       "      <td>1</td>\n",
       "      <td>0</td>\n",
       "      <td>0</td>\n",
       "      <td>...</td>\n",
       "      <td>0</td>\n",
       "      <td>0</td>\n",
       "      <td>0</td>\n",
       "      <td>0</td>\n",
       "      <td>1</td>\n",
       "      <td>0</td>\n",
       "      <td>0</td>\n",
       "      <td>0</td>\n",
       "      <td>0</td>\n",
       "      <td>0</td>\n",
       "    </tr>\n",
       "    <tr>\n",
       "      <th>4</th>\n",
       "      <td>17</td>\n",
       "      <td>1</td>\n",
       "      <td>Drop</td>\n",
       "      <td>0</td>\n",
       "      <td>1</td>\n",
       "      <td>0</td>\n",
       "      <td>1</td>\n",
       "      <td>0</td>\n",
       "      <td>0</td>\n",
       "      <td>0</td>\n",
       "      <td>...</td>\n",
       "      <td>0</td>\n",
       "      <td>0</td>\n",
       "      <td>0</td>\n",
       "      <td>0</td>\n",
       "      <td>1</td>\n",
       "      <td>0</td>\n",
       "      <td>0</td>\n",
       "      <td>0</td>\n",
       "      <td>0</td>\n",
       "      <td>0</td>\n",
       "    </tr>\n",
       "    <tr>\n",
       "      <th>5</th>\n",
       "      <td>100</td>\n",
       "      <td>2</td>\n",
       "      <td>Drop</td>\n",
       "      <td>0</td>\n",
       "      <td>1</td>\n",
       "      <td>0</td>\n",
       "      <td>1</td>\n",
       "      <td>0</td>\n",
       "      <td>0</td>\n",
       "      <td>0</td>\n",
       "      <td>...</td>\n",
       "      <td>0</td>\n",
       "      <td>0</td>\n",
       "      <td>1</td>\n",
       "      <td>0</td>\n",
       "      <td>1</td>\n",
       "      <td>0</td>\n",
       "      <td>0</td>\n",
       "      <td>0</td>\n",
       "      <td>0</td>\n",
       "      <td>0</td>\n",
       "    </tr>\n",
       "  </tbody>\n",
       "</table>\n",
       "<p>5 rows × 23 columns</p>\n",
       "</div>"
      ],
      "text/plain": [
       "   Sorting foundation material consumption  Work Ex (years)    Status  No  \\\n",
       "1                                      100                1  Retained   0   \n",
       "2                                       73                4  Retained   0   \n",
       "3                                       25                1      Drop   0   \n",
       "4                                       17                1      Drop   0   \n",
       "5                                      100                2      Drop   0   \n",
       "\n",
       "   Yes  No  Yes  Google Brand  Google Discovery  Google NB  ...  blind  \\\n",
       "1    1   0    1             0                 0          0  ...      0   \n",
       "2    1   0    1             0                 0          1  ...      0   \n",
       "3    1   0    1             1                 0          0  ...      0   \n",
       "4    1   0    1             0                 0          0  ...      0   \n",
       "5    1   0    1             0                 0          0  ...      0   \n",
       "\n",
       "   facebook  quora  sendinblue  CST  EST  IST  MST  PST  UK Time  \n",
       "1         0      0           0    1    0    0    0    0        0  \n",
       "2         0      0           0    1    0    0    0    0        0  \n",
       "3         0      0           0    1    0    0    0    0        0  \n",
       "4         0      0           0    1    0    0    0    0        0  \n",
       "5         0      1           0    1    0    0    0    0        0  \n",
       "\n",
       "[5 rows x 23 columns]"
      ]
     },
     "execution_count": 88,
     "metadata": {},
     "output_type": "execute_result"
    }
   ],
   "source": [
    "df2.head()"
   ]
  },
  {
   "cell_type": "code",
   "execution_count": 84,
   "metadata": {},
   "outputs": [],
   "source": [
    "df2.drop(['Attended Orientation (Yes/No)','Attended Sorting (Yes/No)','Timezone','Marketing channel'], axis=1,inplace=True)"
   ]
  },
  {
   "cell_type": "markdown",
   "metadata": {},
   "source": [
    "## Data Split "
   ]
  },
  {
   "cell_type": "code",
   "execution_count": 92,
   "metadata": {},
   "outputs": [],
   "source": [
    "X = df2.drop('Status', axis=1)\n",
    "y = df2['Status']"
   ]
  },
  {
   "cell_type": "code",
   "execution_count": 93,
   "metadata": {},
   "outputs": [],
   "source": [
    "from sklearn.model_selection import train_test_split\n",
    "X_train, X_test, y_train, y_test = train_test_split(X, y, test_size=0.30, random_state=101)"
   ]
  },
  {
   "cell_type": "markdown",
   "metadata": {},
   "source": [
    "## Standardization"
   ]
  },
  {
   "cell_type": "code",
   "execution_count": 94,
   "metadata": {},
   "outputs": [],
   "source": [
    "from sklearn.preprocessing import StandardScaler\n",
    "sc = StandardScaler()"
   ]
  },
  {
   "cell_type": "code",
   "execution_count": 96,
   "metadata": {},
   "outputs": [],
   "source": [
    "X_train_scaled = sc.fit_transform(X_train)"
   ]
  },
  {
   "cell_type": "code",
   "execution_count": 97,
   "metadata": {},
   "outputs": [],
   "source": [
    "X_test_scales = sc.transform(X_test)"
   ]
  },
  {
   "cell_type": "markdown",
   "metadata": {},
   "source": [
    "## Model Building"
   ]
  },
  {
   "cell_type": "code",
   "execution_count": 98,
   "metadata": {},
   "outputs": [
    {
     "data": {
      "text/plain": [
       "RandomForestClassifier(n_estimators=600)"
      ]
     },
     "execution_count": 98,
     "metadata": {},
     "output_type": "execute_result"
    }
   ],
   "source": [
    "from sklearn.ensemble import RandomForestClassifier\n",
    "rfc = RandomForestClassifier(n_estimators=600)\n",
    "rfc.fit(X_train,y_train)"
   ]
  },
  {
   "cell_type": "code",
   "execution_count": 99,
   "metadata": {},
   "outputs": [],
   "source": [
    "predictions = rfc.predict(X_test)"
   ]
  },
  {
   "cell_type": "code",
   "execution_count": 100,
   "metadata": {},
   "outputs": [],
   "source": [
    "from sklearn.metrics import classification_report,confusion_matrix"
   ]
  },
  {
   "cell_type": "code",
   "execution_count": 101,
   "metadata": {},
   "outputs": [
    {
     "name": "stdout",
     "output_type": "stream",
     "text": [
      "              precision    recall  f1-score   support\n",
      "\n",
      "        Drop       0.20      0.14      0.16        22\n",
      "        Move       0.19      0.13      0.16        30\n",
      "    Retained       0.73      0.83      0.78       127\n",
      "\n",
      "    accuracy                           0.63       179\n",
      "   macro avg       0.37      0.37      0.37       179\n",
      "weighted avg       0.58      0.63      0.60       179\n",
      "\n"
     ]
    }
   ],
   "source": [
    "print(classification_report(y_test,predictions))"
   ]
  },
  {
   "cell_type": "code",
   "execution_count": 102,
   "metadata": {},
   "outputs": [
    {
     "name": "stdout",
     "output_type": "stream",
     "text": [
      "[[  3   3  16]\n",
      " [  4   4  22]\n",
      " [  8  14 105]]\n"
     ]
    }
   ],
   "source": [
    "print(confusion_matrix(y_test,predictions))"
   ]
  },
  {
   "cell_type": "code",
   "execution_count": 104,
   "metadata": {},
   "outputs": [
    {
     "data": {
      "text/plain": [
       "RandomForestClassifier(n_estimators=600)"
      ]
     },
     "execution_count": 104,
     "metadata": {},
     "output_type": "execute_result"
    }
   ],
   "source": [
    "from sklearn.ensemble import RandomForestClassifier\n",
    "rfc = RandomForestClassifier(n_estimators=600)\n",
    "rfc.fit(X_train_scaled,y_train)"
   ]
  },
  {
   "cell_type": "code",
   "execution_count": 106,
   "metadata": {},
   "outputs": [],
   "source": [
    "predictions_scl = rfc.predict(X_test_scales)"
   ]
  },
  {
   "cell_type": "code",
   "execution_count": 107,
   "metadata": {},
   "outputs": [
    {
     "name": "stdout",
     "output_type": "stream",
     "text": [
      "              precision    recall  f1-score   support\n",
      "\n",
      "        Drop       0.25      0.18      0.21        22\n",
      "        Move       0.16      0.13      0.15        30\n",
      "    Retained       0.73      0.80      0.76       127\n",
      "\n",
      "    accuracy                           0.61       179\n",
      "   macro avg       0.38      0.37      0.37       179\n",
      "weighted avg       0.58      0.61      0.59       179\n",
      "\n"
     ]
    }
   ],
   "source": [
    "print(classification_report(y_test,predictions_scl))"
   ]
  },
  {
   "cell_type": "code",
   "execution_count": 108,
   "metadata": {},
   "outputs": [
    {
     "name": "stdout",
     "output_type": "stream",
     "text": [
      "[[  4   3  15]\n",
      " [  4   4  22]\n",
      " [  8  18 101]]\n"
     ]
    }
   ],
   "source": [
    "print(confusion_matrix(y_test,predictions_scl))"
   ]
  },
  {
   "cell_type": "code",
   "execution_count": 117,
   "metadata": {},
   "outputs": [],
   "source": [
    "from sklearn.linear_model import LogisticRegression\n",
    "model = LogisticRegression(max_iter=1000)\n",
    "model.fit(X_train, y_train)\n",
    "predict = model.predict(X_test)"
   ]
  },
  {
   "cell_type": "code",
   "execution_count": 118,
   "metadata": {},
   "outputs": [
    {
     "name": "stdout",
     "output_type": "stream",
     "text": [
      "              precision    recall  f1-score   support\n",
      "\n",
      "        Drop       0.33      0.14      0.19        22\n",
      "        Move       0.43      0.10      0.16        30\n",
      "    Retained       0.74      0.95      0.83       127\n",
      "\n",
      "    accuracy                           0.71       179\n",
      "   macro avg       0.50      0.40      0.40       179\n",
      "weighted avg       0.64      0.71      0.64       179\n",
      "\n"
     ]
    }
   ],
   "source": [
    "print(classification_report(y_test,predict))"
   ]
  },
  {
   "cell_type": "markdown",
   "metadata": {},
   "source": [
    "## Leads for ROI Calculation"
   ]
  },
  {
   "cell_type": "code",
   "execution_count": 121,
   "metadata": {},
   "outputs": [],
   "source": [
    "from datetime import datetime"
   ]
  },
  {
   "cell_type": "code",
   "execution_count": 123,
   "metadata": {},
   "outputs": [],
   "source": [
    "df['Cohort start date (orientation)'] = pd.to_datetime(df['Cohort start date (orientation)'])"
   ]
  },
  {
   "cell_type": "code",
   "execution_count": 133,
   "metadata": {},
   "outputs": [],
   "source": [
    "df2 = df[df['Cohort start date (orientation)'] >= '2020-10-01']"
   ]
  },
  {
   "cell_type": "code",
   "execution_count": 134,
   "metadata": {},
   "outputs": [
    {
     "data": {
      "text/plain": [
       "(264, 18)"
      ]
     },
     "execution_count": 134,
     "metadata": {},
     "output_type": "execute_result"
    }
   ],
   "source": [
    "df2.shape"
   ]
  },
  {
   "cell_type": "code",
   "execution_count": 135,
   "metadata": {},
   "outputs": [
    {
     "data": {
      "text/plain": [
       "Retained    176\n",
       "Move         54\n",
       "Drop         34\n",
       "Name: Move/Drop, dtype: int64"
      ]
     },
     "execution_count": 135,
     "metadata": {},
     "output_type": "execute_result"
    }
   ],
   "source": [
    "df2['Move/Drop'].value_counts()"
   ]
  },
  {
   "cell_type": "code",
   "execution_count": 141,
   "metadata": {},
   "outputs": [
    {
     "data": {
      "text/plain": [
       "Marketing channel   Move/Drop\n",
       "Google Brand        Retained     14\n",
       "                    Move          5\n",
       "                    Drop          1\n",
       "Google Discovery    Retained     11\n",
       "                    Move          9\n",
       "                    Drop          3\n",
       "Google NB           Retained      5\n",
       "                    Move          2\n",
       "Google Remarketing  Retained      3\n",
       "                    Drop          2\n",
       "                    Move          1\n",
       "Google YouTube      Retained      7\n",
       "                    Move          3\n",
       "                    Drop          2\n",
       "Organic             Retained     88\n",
       "                    Move         18\n",
       "                    Drop         14\n",
       "blind               Retained      4\n",
       "                    Drop          1\n",
       "                    Move          1\n",
       "facebook            Retained      2\n",
       "quora               Retained      9\n",
       "                    Drop          3\n",
       "                    Move          1\n",
       "Name: Move/Drop, dtype: int64"
      ]
     },
     "execution_count": 141,
     "metadata": {},
     "output_type": "execute_result"
    }
   ],
   "source": [
    "df2.groupby('Marketing channel')['Move/Drop'].value_counts()"
   ]
  }
 ],
 "metadata": {
  "kernelspec": {
   "display_name": "Python 3",
   "language": "python",
   "name": "python3"
  },
  "language_info": {
   "codemirror_mode": {
    "name": "ipython",
    "version": 3
   },
   "file_extension": ".py",
   "mimetype": "text/x-python",
   "name": "python",
   "nbconvert_exporter": "python",
   "pygments_lexer": "ipython3",
   "version": "3.8.3"
  }
 },
 "nbformat": 4,
 "nbformat_minor": 4
}
